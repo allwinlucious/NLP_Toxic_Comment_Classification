{
 "cells": [
  {
   "cell_type": "code",
   "execution_count": 10,
   "id": "d3e4656b",
   "metadata": {},
   "outputs": [],
   "source": [
    "import pandas as pd\n",
    "from nltk.tokenize import word_tokenize"
   ]
  },
  {
   "cell_type": "markdown",
   "id": "5f53dd42",
   "metadata": {},
   "source": [
    "Import data"
   ]
  },
  {
   "cell_type": "code",
   "execution_count": 9,
   "id": "735a9b29",
   "metadata": {},
   "outputs": [
    {
     "data": {
      "text/plain": [
       "<bound method NDFrame.head of                                              comment_text  toxic  \\\n",
       "0       Explanation\\nWhy the edits made under my usern...      0   \n",
       "1       D'aww! He matches this background colour I'm s...      0   \n",
       "2       Hey man, I'm really not trying to edit war. It...      0   \n",
       "3       \"\\nMore\\nI can't make any real suggestions on ...      0   \n",
       "4       You, sir, are my hero. Any chance you remember...      0   \n",
       "...                                                   ...    ...   \n",
       "159566  \":::::And for the second time of asking, when ...      0   \n",
       "159567  You should be ashamed of yourself \\n\\nThat is ...      0   \n",
       "159568  Spitzer \\n\\nUmm, theres no actual article for ...      0   \n",
       "159569  And it looks like it was actually you who put ...      0   \n",
       "159570  \"\\nAnd ... I really don't think you understand...      0   \n",
       "\n",
       "        severe_toxic  obscene  threat  insult  identity_hate  \n",
       "0                  0        0       0       0              0  \n",
       "1                  0        0       0       0              0  \n",
       "2                  0        0       0       0              0  \n",
       "3                  0        0       0       0              0  \n",
       "4                  0        0       0       0              0  \n",
       "...              ...      ...     ...     ...            ...  \n",
       "159566             0        0       0       0              0  \n",
       "159567             0        0       0       0              0  \n",
       "159568             0        0       0       0              0  \n",
       "159569             0        0       0       0              0  \n",
       "159570             0        0       0       0              0  \n",
       "\n",
       "[159571 rows x 7 columns]>"
      ]
     },
     "execution_count": 9,
     "metadata": {},
     "output_type": "execute_result"
    }
   ],
   "source": [
    "train_path = \"data/train.csv/train.csv\"\n",
    "test_path = \"data/test.csv/test.csv\"\n",
    "test_labels_path = \"data/test_labels.csv/test_labels.csv\"\n",
    "\n",
    "df = pd.read_csv(train_path)\n",
    "df.drop('id', inplace=True, axis=1) #dropping id column\n",
    "df.head"
   ]
  },
  {
   "cell_type": "markdown",
   "id": "17d5b3ae",
   "metadata": {},
   "source": [
    "## Preprocessing"
   ]
  },
  {
   "cell_type": "markdown",
   "id": "4d5eeefd",
   "metadata": {},
   "source": [
    "### Tokenizing"
   ]
  },
  {
   "cell_type": "code",
   "execution_count": 16,
   "id": "1399cbde",
   "metadata": {},
   "outputs": [
    {
     "data": {
      "text/plain": [
       "0         [Explanation, Why, the, edits, made, under, my...\n",
       "1         [D'aww, !, He, matches, this, background, colo...\n",
       "2         [Hey, man, ,, I, 'm, really, not, trying, to, ...\n",
       "3         [``, More, I, ca, n't, make, any, real, sugges...\n",
       "4         [You, ,, sir, ,, are, my, hero, ., Any, chance...\n",
       "                                ...                        \n",
       "159566    [``, :, :, :, :, :, And, for, the, second, tim...\n",
       "159567    [You, should, be, ashamed, of, yourself, That,...\n",
       "159568    [Spitzer, Umm, ,, theres, no, actual, article,...\n",
       "159569    [And, it, looks, like, it, was, actually, you,...\n",
       "159570    [``, And, ..., I, really, do, n't, think, you,...\n",
       "Name: comment_text, Length: 159571, dtype: object"
      ]
     },
     "execution_count": 16,
     "metadata": {},
     "output_type": "execute_result"
    }
   ],
   "source": [
    "df['comment_text'].apply(word_tokenize)"
   ]
  },
  {
   "cell_type": "markdown",
   "id": "e5a67e5c",
   "metadata": {},
   "source": [
    "### Lower Casing"
   ]
  },
  {
   "cell_type": "code",
   "execution_count": null,
   "id": "86c049c2",
   "metadata": {},
   "outputs": [],
   "source": []
  }
 ],
 "metadata": {
  "kernelspec": {
   "display_name": "Python 3 (ipykernel)",
   "language": "python",
   "name": "python3"
  },
  "language_info": {
   "codemirror_mode": {
    "name": "ipython",
    "version": 3
   },
   "file_extension": ".py",
   "mimetype": "text/x-python",
   "name": "python",
   "nbconvert_exporter": "python",
   "pygments_lexer": "ipython3",
   "version": "3.9.12"
  }
 },
 "nbformat": 4,
 "nbformat_minor": 5
}
