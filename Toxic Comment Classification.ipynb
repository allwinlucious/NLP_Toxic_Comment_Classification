{
 "cells": [
  {
   "cell_type": "code",
   "execution_count": 21,
   "id": "7156c806",
   "metadata": {
    "pycharm": {
     "name": "#%%\n"
    }
   },
   "outputs": [
    {
     "name": "stderr",
     "output_type": "stream",
     "text": [
      "[nltk_data] Downloading package omw-1.4 to /home/mew/nltk_data...\n",
      "[nltk_data]   Package omw-1.4 is already up-to-date!\n",
      "[nltk_data] Downloading package stopwords to /home/mew/nltk_data...\n",
      "[nltk_data]   Package stopwords is already up-to-date!\n",
      "[nltk_data] Downloading package punkt to /home/mew/nltk_data...\n",
      "[nltk_data]   Package punkt is already up-to-date!\n",
      "[nltk_data] Downloading package wordnet to /home/mew/nltk_data...\n"
     ]
    }
   ],
   "source": [
    "import sys, os, re, csv, codecs, numpy as np, pandas as pd\n",
    "import matplotlib.pyplot as plt\n",
    "from tensorflow import keras\n",
    "import tensorflow as tf\n",
    "from keras.preprocessing.text import Tokenizer\n",
    "from keras_preprocessing.sequence import pad_sequences\n",
    "from keras.layers import Dense, Input, LSTM, Embedding, Dropout, Activation\n",
    "from keras.layers import Bidirectional, GlobalMaxPool1D\n",
    "from keras.models import Model\n",
    "from keras import initializers, regularizers, constraints, optimizers, layers\n",
    "import seaborn as sns\n",
    "import nltk\n",
    "from nltk.corpus import stopwords\n",
    "import unicodedata\n",
    "from tensorflow.keras.callbacks import TensorBoard\n",
    "import datetime\n",
    "\n",
    "nltk.download('omw-1.4')\n",
    "nltk.download('stopwords')\n",
    "nltk.download('punkt')\n",
    "nltk.download('wordnet')\n",
    "%matplotlib inline"
   ]
  },
  {
   "cell_type": "markdown",
   "id": "f1d5be29",
   "metadata": {
    "pycharm": {
     "name": "#%% md\n"
    }
   },
   "source": [
    "Load datasets"
   ]
  },
  {
   "cell_type": "code",
   "execution_count": 13,
   "id": "09c0eaa1",
   "metadata": {
    "pycharm": {
     "name": "#%%\n"
    }
   },
   "outputs": [
    {
     "data": {
      "text/plain": [
       "<bound method NDFrame.head of                       id                                       comment_text\n",
       "0       00001cee341fdb12  Yo bitch Ja Rule is more succesful then you'll...\n",
       "1       0000247867823ef7  == From RfC == \\n\\n The title is fine as it is...\n",
       "2       00013b17ad220c46  \" \\n\\n == Sources == \\n\\n * Zawe Ashton on Lap...\n",
       "3       00017563c3f7919a  :If you have a look back at the source, the in...\n",
       "4       00017695ad8997eb          I don't anonymously edit articles at all.\n",
       "...                  ...                                                ...\n",
       "153159  fffcd0960ee309b5  . \\n i totally agree, this stuff is nothing bu...\n",
       "153160  fffd7a9a6eb32c16  == Throw from out field to home plate. == \\n\\n...\n",
       "153161  fffda9e8d6fafa9e  \" \\n\\n == Okinotorishima categories == \\n\\n I ...\n",
       "153162  fffe8f1340a79fc2  \" \\n\\n == \"\"One of the founding nations of the...\n",
       "153163  ffffce3fb183ee80  \" \\n :::Stop already. Your bullshit is not wel...\n",
       "\n",
       "[153164 rows x 2 columns]>"
      ]
     },
     "execution_count": 13,
     "metadata": {},
     "output_type": "execute_result"
    }
   ],
   "source": [
    "train_path = \"data/train.csv/train.csv\"\n",
    "test_path = \"data/test.csv/test.csv\"\n",
    "test_labels_path = \"data/test_labels.csv/test_labels.csv\"\n",
    "\n",
    "train = pd.read_csv(train_path)\n",
    "test = pd.read_csv(test_path)\n",
    "train.drop('id', inplace=True, axis=1) #dropping id column\n",
    "test.head"
   ]
  },
  {
   "cell_type": "markdown",
   "id": "6d7d7373",
   "metadata": {
    "pycharm": {
     "name": "#%% md\n"
    }
   },
   "source": [
    "### checking for null entries"
   ]
  },
  {
   "cell_type": "code",
   "execution_count": 8,
   "id": "e40da29d",
   "metadata": {
    "pycharm": {
     "name": "#%%\n"
    }
   },
   "outputs": [
    {
     "data": {
      "text/plain": [
       "(comment_text     False\n",
       " toxic            False\n",
       " severe_toxic     False\n",
       " obscene          False\n",
       " threat           False\n",
       " insult           False\n",
       " identity_hate    False\n",
       " dtype: bool,\n",
       " id              False\n",
       " comment_text    False\n",
       " dtype: bool)"
      ]
     },
     "execution_count": 8,
     "metadata": {},
     "output_type": "execute_result"
    }
   ],
   "source": [
    "train.isnull().any(),test.isnull().any()"
   ]
  },
  {
   "cell_type": "markdown",
   "id": "ee67f8cb",
   "metadata": {
    "pycharm": {
     "name": "#%% md\n"
    }
   },
   "source": [
    "### correlation between labels"
   ]
  },
  {
   "cell_type": "code",
   "execution_count": 9,
   "id": "e93f33ca",
   "metadata": {
    "pycharm": {
     "name": "#%%\n"
    }
   },
   "outputs": [
    {
     "name": "stderr",
     "output_type": "stream",
     "text": [
      "/tmp/ipykernel_3759/1683061818.py:2: FutureWarning: The default value of numeric_only in DataFrame.corr is deprecated. In a future version, it will default to False. Select only valid columns or specify the value of numeric_only to silence this warning.\n",
      "  corr=temp_df.corr()\n"
     ]
    },
    {
     "data": {
      "text/plain": [
       "<AxesSubplot: >"
      ]
     },
     "execution_count": 9,
     "metadata": {},
     "output_type": "execute_result"
    },
    {
     "data": {
      "image/png": "[encoded data removed]",
      "text/plain": [
       "<Figure size 1000x800 with 2 Axes>"
      ]
     },
     "metadata": {},
     "output_type": "display_data"
    }
   ],
   "source": [
    "temp_df=train.iloc[:,0:]\n",
    "corr=temp_df.corr()\n",
    "plt.figure(figsize=(10,8))\n",
    "sns.heatmap(corr,\n",
    "            xticklabels=corr.columns.values,\n",
    "            yticklabels=corr.columns.values, annot=True)"
   ]
  },
  {
   "cell_type": "code",
   "execution_count": 10,
   "id": "7caa293f",
   "metadata": {
    "pycharm": {
     "name": "#%%\n"
    }
   },
   "outputs": [
    {
     "data": {
      "text/plain": [
       "comment_text     object\n",
       "toxic             int64\n",
       "severe_toxic      int64\n",
       "obscene           int64\n",
       "threat            int64\n",
       "insult            int64\n",
       "identity_hate     int64\n",
       "dtype: object"
      ]
     },
     "execution_count": 10,
     "metadata": {},
     "output_type": "execute_result"
    }
   ],
   "source": [
    "train.dtypes"
   ]
  },
  {
   "cell_type": "markdown",
   "id": "c97593ba",
   "metadata": {
    "pycharm": {
     "name": "#%% md\n"
    }
   },
   "source": [
    "### Preprocessing\n",
    "\n",
    "    remove accented\n",
    "    removing punctuation\n",
    "    removing irrelevant characters\n",
    "    removing extra whitespaces\n",
    "    lemmatization"
   ]
  },
  {
   "cell_type": "code",
   "execution_count": 16,
   "id": "1fa568e8",
   "metadata": {
    "pycharm": {
     "name": "#%%\n"
    }
   },
   "outputs": [],
   "source": [
    "def rem_accented(text):\n",
    "    return unicodedata.normalize('NFKD', text).encode('ascii', 'ignore').decode('utf-8', 'ignore')\n",
    "def rem_puntucation(text):\n",
    "    pat = r'[^a-zA-Z0-9;\\\"\\'\\s]'\n",
    "    return re.sub(pat, '',text)\n",
    "def get_long(text):\n",
    "    text = re.sub(r\"can't\", \"can not\",text)\n",
    "    text = re.sub(r\"i'm\", \"i am \", text)\n",
    "    text = re.sub(r\"\\'re\", \" are \", text)\n",
    "    text = re.sub(r\"\\'s\", \" is \", text)\n",
    "    return text\n",
    "def remove_special_characters(text):\n",
    "    # define the pattern to keep\n",
    "    pat = r'[^a-zA-z0-9.,!\"?/:;\\\"\\'\\s]' \n",
    "    return re.sub(pat, '', text)\n",
    "    \n",
    "# stopwords\n",
    "stops = stopwords.words(\"english\") \n",
    "delete = ['no',\n",
    "'nor',\n",
    "'not',\n",
    "'don',\n",
    "\"don't\",\n",
    "'ain',\n",
    "'aren',\n",
    "\"aren't\",\n",
    "'couldn',\n",
    "\"couldn't\",\n",
    "'didn',\n",
    "\"didn't\",\n",
    "'doesn',\n",
    "\"doesn't\",\n",
    "'hadn',\n",
    "\"hadn't\",\n",
    "'hasn',\n",
    "\"hasn't\",\n",
    "'haven',\n",
    "\"haven't\",\n",
    "'isn',\n",
    "\"isn't\",\n",
    "'ma',\n",
    "'mightn',\n",
    "\"mightn't\",\n",
    "'mustn',\n",
    "\"mustn't\",\n",
    "'needn',\n",
    "\"needn't\",\n",
    "'shan',\n",
    "\"shan't\",\n",
    "'shouldn',\n",
    "\"shouldn't\",\n",
    "'wasn',\n",
    "\"wasn't\",\n",
    "'weren',\n",
    "\"weren't\",\n",
    "'won',\n",
    "\"won't\",\n",
    "'wouldn',\n",
    "\"wouldn't\"]\n",
    "new = [stop for stop in stops if stop not in delete]\n",
    "\n",
    "w_tokenizer = nltk.tokenize.WhitespaceTokenizer()\n",
    "lemmatizer = nltk.stem.WordNetLemmatizer()\n",
    "\n",
    "# def get_lemmatization(text):\n",
    "#     return [lemmatizer.lemmatize(w) for w in w_tokenizer.tokenize(text)]\n",
    "\n",
    "def get_lemmatization(text):\n",
    "    # Tokenize: Split the sentence into words\n",
    "    word_list = nltk.word_tokenize(text)\n",
    "    # Lemmatize list of words and join\n",
    "    lemmatized_output = ' '.join([lemmatizer.lemmatize(w) for w in word_list])\n",
    "    return lemmatized_output"
   ]
  },
  {
   "cell_type": "code",
   "execution_count": 17,
   "id": "b198ce3b",
   "metadata": {
    "pycharm": {
     "name": "#%%\n"
    }
   },
   "outputs": [],
   "source": [
    "def preprocess(df):\n",
    "    df['comment_text'] = df['comment_text'].astype(str)\n",
    "    df['clean_comment'] = df['comment_text'].str.lower()\n",
    "    df['clean_comment'] = df['clean_comment'].apply(rem_puntucation)\n",
    "    df['clean_comment'] = df['clean_comment'].apply(get_long)\n",
    "    df['clean_comment'] = df['clean_comment'].apply(remove_special_characters)\n",
    "    df['clean_comment'] = df['clean_comment'].apply(lambda x: ' '.join([item for item in x.split() if item not in new]))\n",
    "    df['clean_comment'] = df['clean_comment'].apply(rem_accented)\n",
    "    df['clean_comment'] = df['clean_comment'].apply(get_lemmatization)\n",
    "    return df"
   ]
  },
  {
   "cell_type": "markdown",
   "id": "01a0b583",
   "metadata": {
    "pycharm": {
     "name": "#%% md\n"
    }
   },
   "source": [
    "preproceesing training data"
   ]
  },
  {
   "cell_type": "code",
   "execution_count": 22,
   "id": "352e8fb3",
   "metadata": {
    "pycharm": {
     "name": "#%%\n"
    }
   },
   "outputs": [],
   "source": [
    "train = preprocess(train)"
   ]
  },
  {
   "cell_type": "code",
   "execution_count": 23,
   "id": "da415ab0",
   "metadata": {
    "pycharm": {
     "name": "#%%\n"
    }
   },
   "outputs": [
    {
     "data": {
      "text/html": [
       "<div>\n",
       "<style scoped>\n",
       "    .dataframe tbody tr th:only-of-type {\n",
       "        vertical-align: middle;\n",
       "    }\n",
       "\n",
       "    .dataframe tbody tr th {\n",
       "        vertical-align: top;\n",
       "    }\n",
       "\n",
       "    .dataframe thead th {\n",
       "        text-align: right;\n",
       "    }\n",
       "</style>\n",
       "<table border=\"1\" class=\"dataframe\">\n",
       "  <thead>\n",
       "    <tr style=\"text-align: right;\">\n",
       "      <th></th>\n",
       "      <th>comment_text</th>\n",
       "      <th>toxic</th>\n",
       "      <th>severe_toxic</th>\n",
       "      <th>obscene</th>\n",
       "      <th>threat</th>\n",
       "      <th>insult</th>\n",
       "      <th>identity_hate</th>\n",
       "      <th>clean_comment</th>\n",
       "    </tr>\n",
       "  </thead>\n",
       "  <tbody>\n",
       "    <tr>\n",
       "      <th>0</th>\n",
       "      <td>Explanation\\nWhy the edits made under my usern...</td>\n",
       "      <td>0</td>\n",
       "      <td>0</td>\n",
       "      <td>0</td>\n",
       "      <td>0</td>\n",
       "      <td>0</td>\n",
       "      <td>0</td>\n",
       "      <td>explanation edits made username hardcore metal...</td>\n",
       "    </tr>\n",
       "    <tr>\n",
       "      <th>1</th>\n",
       "      <td>D'aww! He matches this background colour I'm s...</td>\n",
       "      <td>0</td>\n",
       "      <td>0</td>\n",
       "      <td>0</td>\n",
       "      <td>0</td>\n",
       "      <td>0</td>\n",
       "      <td>0</td>\n",
       "      <td>d'aww match background colour seemingly stuck ...</td>\n",
       "    </tr>\n",
       "    <tr>\n",
       "      <th>2</th>\n",
       "      <td>Hey man, I'm really not trying to edit war. It...</td>\n",
       "      <td>0</td>\n",
       "      <td>0</td>\n",
       "      <td>0</td>\n",
       "      <td>0</td>\n",
       "      <td>0</td>\n",
       "      <td>0</td>\n",
       "      <td>hey man really not trying edit war guy constan...</td>\n",
       "    </tr>\n",
       "    <tr>\n",
       "      <th>3</th>\n",
       "      <td>\"\\nMore\\nI can't make any real suggestions on ...</td>\n",
       "      <td>0</td>\n",
       "      <td>0</td>\n",
       "      <td>0</td>\n",
       "      <td>0</td>\n",
       "      <td>0</td>\n",
       "      <td>0</td>\n",
       "      <td>`` not make real suggestion improvement wonder...</td>\n",
       "    </tr>\n",
       "    <tr>\n",
       "      <th>4</th>\n",
       "      <td>You, sir, are my hero. Any chance you remember...</td>\n",
       "      <td>0</td>\n",
       "      <td>0</td>\n",
       "      <td>0</td>\n",
       "      <td>0</td>\n",
       "      <td>0</td>\n",
       "      <td>0</td>\n",
       "      <td>sir hero chance remember page</td>\n",
       "    </tr>\n",
       "  </tbody>\n",
       "</table>\n",
       "</div>"
      ],
      "text/plain": [
       "                                        comment_text  toxic  severe_toxic  \\\n",
       "0  Explanation\\nWhy the edits made under my usern...      0             0   \n",
       "1  D'aww! He matches this background colour I'm s...      0             0   \n",
       "2  Hey man, I'm really not trying to edit war. It...      0             0   \n",
       "3  \"\\nMore\\nI can't make any real suggestions on ...      0             0   \n",
       "4  You, sir, are my hero. Any chance you remember...      0             0   \n",
       "\n",
       "   obscene  threat  insult  identity_hate  \\\n",
       "0        0       0       0              0   \n",
       "1        0       0       0              0   \n",
       "2        0       0       0              0   \n",
       "3        0       0       0              0   \n",
       "4        0       0       0              0   \n",
       "\n",
       "                                       clean_comment  \n",
       "0  explanation edits made username hardcore metal...  \n",
       "1  d'aww match background colour seemingly stuck ...  \n",
       "2  hey man really not trying edit war guy constan...  \n",
       "3  `` not make real suggestion improvement wonder...  \n",
       "4                      sir hero chance remember page  "
      ]
     },
     "execution_count": 23,
     "metadata": {},
     "output_type": "execute_result"
    }
   ],
   "source": [
    "train.head(5)"
   ]
  },
  {
   "cell_type": "code",
   "execution_count": 25,
   "id": "4cbc4ce8",
   "metadata": {
    "pycharm": {
     "name": "#%%\n"
    }
   },
   "outputs": [],
   "source": [
    "list_classes = [\"toxic\", \"severe_toxic\", \"obscene\", \"threat\", \"insult\", \"identity_hate\"]\n",
    "ytrain = train[list_classes].values\n",
    "Xtrain = train[\"clean_comment\"]"
   ]
  },
  {
   "cell_type": "markdown",
   "id": "1a9d94bd",
   "metadata": {
    "pycharm": {
     "name": "#%% md\n"
    }
   },
   "source": [
    "tokenizing the training set"
   ]
  },
  {
   "cell_type": "code",
   "execution_count": 26,
   "id": "11d53da3",
   "metadata": {
    "pycharm": {
     "name": "#%%\n"
    }
   },
   "outputs": [],
   "source": [
    "max_features = 20000\n",
    "tokenizer = Tokenizer(num_words=max_features)\n",
    "tokenizer.fit_on_texts(list(Xtrain))\n",
    "X_tokenized_train = tokenizer.texts_to_sequences(Xtrain)"
   ]
  },
  {
   "cell_type": "markdown",
   "id": "5fa98d0c",
   "metadata": {
    "pycharm": {
     "name": "#%% md\n"
    }
   },
   "source": [
    "special characters that still remianed after preprocessing were not assigned values"
   ]
  },
  {
   "cell_type": "code",
   "execution_count": 27,
   "id": "d05c7775",
   "metadata": {
    "pycharm": {
     "name": "#%%\n"
    }
   },
   "outputs": [
    {
     "data": {
      "text/plain": [
       "[[], [], [], [], [], []]"
      ]
     },
     "execution_count": 27,
     "metadata": {},
     "output_type": "execute_result"
    }
   ],
   "source": [
    "x = '`` \"\" '\n",
    "tokenizer.texts_to_sequences(x)"
   ]
  },
  {
   "cell_type": "markdown",
   "id": "eb529d9b",
   "metadata": {
    "pycharm": {
     "name": "#%% md\n"
    }
   },
   "source": [
    "Input of the NN needs to be fixed length , so choosing a suitable max length of tokens. If the input is short then it is padded."
   ]
  },
  {
   "cell_type": "code",
   "execution_count": 28,
   "id": "207c2507",
   "metadata": {
    "pycharm": {
     "name": "#%%\n"
    }
   },
   "outputs": [
    {
     "data": {
      "image/png": "[encoded data removed]",
      "text/plain": [
       "<Figure size 640x480 with 1 Axes>"
      ]
     },
     "metadata": {},
     "output_type": "display_data"
    }
   ],
   "source": [
    "totalNumWords = [len(one_comment) for one_comment in X_tokenized_train]\n",
    "plt.hist(totalNumWords,bins = np.arange(0,410,10))\n",
    "plt.show()"
   ]
  },
  {
   "cell_type": "markdown",
   "id": "58e07cb8",
   "metadata": {
    "pycharm": {
     "name": "#%% md\n"
    }
   },
   "source": [
    "200 seems to be a safe maxlength of tokens"
   ]
  },
  {
   "cell_type": "code",
   "execution_count": 29,
   "id": "c2e5399e",
   "metadata": {
    "pycharm": {
     "name": "#%%\n"
    }
   },
   "outputs": [],
   "source": [
    "maxlen = 200\n",
    "X_t = pad_sequences(X_tokenized_train, maxlen=maxlen)"
   ]
  },
  {
   "cell_type": "markdown",
   "id": "2e000cc3",
   "metadata": {},
   "source": [
    "log directory for tensorboard"
   ]
  },
  {
   "cell_type": "code",
   "execution_count": 30,
   "id": "01d36bf7",
   "metadata": {},
   "outputs": [
    {
     "name": "stdout",
     "output_type": "stream",
     "text": [
      "logDir:  logs/fit/20221002-233002\n"
     ]
    }
   ],
   "source": [
    "logDir = \"logs/fit/\" + datetime.datetime.now().strftime(\"%Y%m%d-%H%M%S\") \n",
    "print(\"logDir: \", logDir)"
   ]
  },
  {
   "cell_type": "code",
   "execution_count": 31,
   "id": "25390bcb",
   "metadata": {
    "pycharm": {
     "name": "#%%\n"
    }
   },
   "outputs": [
    {
     "name": "stderr",
     "output_type": "stream",
     "text": [
      "2022-10-02 23:30:03.657310: I tensorflow/stream_executor/cuda/cuda_gpu_executor.cc:966] could not open file to read NUMA node: /sys/bus/pci/devices/0000:01:00.0/numa_node\n",
      "Your kernel may have been built without NUMA support.\n",
      "2022-10-02 23:30:03.657438: I tensorflow/stream_executor/cuda/cuda_gpu_executor.cc:966] could not open file to read NUMA node: /sys/bus/pci/devices/0000:01:00.0/numa_node\n",
      "Your kernel may have been built without NUMA support.\n",
      "2022-10-02 23:30:03.657473: I tensorflow/stream_executor/cuda/cuda_gpu_executor.cc:966] could not open file to read NUMA node: /sys/bus/pci/devices/0000:01:00.0/numa_node\n",
      "Your kernel may have been built without NUMA support.\n",
      "2022-10-02 23:30:03.657780: I tensorflow/stream_executor/cuda/cuda_gpu_executor.cc:966] could not open file to read NUMA node: /sys/bus/pci/devices/0000:01:00.0/numa_node\n",
      "Your kernel may have been built without NUMA support.\n",
      "2022-10-02 23:30:03.657819: I tensorflow/stream_executor/cuda/cuda_gpu_executor.cc:966] could not open file to read NUMA node: /sys/bus/pci/devices/0000:01:00.0/numa_node\n",
      "Your kernel may have been built without NUMA support.\n",
      "2022-10-02 23:30:03.657846: I tensorflow/stream_executor/cuda/cuda_gpu_executor.cc:966] could not open file to read NUMA node: /sys/bus/pci/devices/0000:01:00.0/numa_node\n",
      "Your kernel may have been built without NUMA support.\n",
      "2022-10-02 23:30:03.658209: I tensorflow/stream_executor/cuda/cuda_gpu_executor.cc:966] could not open file to read NUMA node: /sys/bus/pci/devices/0000:01:00.0/numa_node\n",
      "Your kernel may have been built without NUMA support.\n",
      "2022-10-02 23:30:03.658226: I tensorflow/core/common_runtime/gpu/gpu_device.cc:1700] Could not identify NUMA node of platform GPU id 0, defaulting to 0.  Your kernel may not have been built with NUMA support.\n",
      "2022-10-02 23:30:03.658268: I tensorflow/stream_executor/cuda/cuda_gpu_executor.cc:966] could not open file to read NUMA node: /sys/bus/pci/devices/0000:01:00.0/numa_node\n",
      "Your kernel may have been built without NUMA support.\n",
      "2022-10-02 23:30:03.658298: I tensorflow/core/common_runtime/gpu/gpu_device.cc:1616] Created device /job:localhost/replica:0/task:0/device:GPU:0 with 3937 MB memory:  -> device: 0, name: NVIDIA GeForce GTX 1660 Ti, pci bus id: 0000:01:00.0, compute capability: 7.5\n"
     ]
    },
    {
     "name": "stdout",
     "output_type": "stream",
     "text": [
      "Model: \"model\"\n",
      "_________________________________________________________________\n",
      " Layer (type)                Output Shape              Param #   \n",
      "=================================================================\n",
      " input_1 (InputLayer)        [(None, 200)]             0         \n",
      "                                                                 \n",
      " embedding (Embedding)       (None, 200, 128)          2560000   \n",
      "                                                                 \n",
      " lstm_layer (LSTM)           (None, 200, 60)           45360     \n",
      "                                                                 \n",
      " global_max_pooling1d (Globa  (None, 60)               0         \n",
      " lMaxPooling1D)                                                  \n",
      "                                                                 \n",
      " dropout (Dropout)           (None, 60)                0         \n",
      "                                                                 \n",
      " dense (Dense)               (None, 50)                3050      \n",
      "                                                                 \n",
      " dropout_1 (Dropout)         (None, 50)                0         \n",
      "                                                                 \n",
      " dense_1 (Dense)             (None, 6)                 306       \n",
      "                                                                 \n",
      "=================================================================\n",
      "Total params: 2,608,716\n",
      "Trainable params: 2,608,716\n",
      "Non-trainable params: 0\n",
      "_________________________________________________________________\n",
      "None\n"
     ]
    }
   ],
   "source": [
    "inp = Input(shape=(maxlen, ))\n",
    "embed_size = 128\n",
    "x = Embedding(max_features, embed_size)(inp)\n",
    "x = LSTM(60, return_sequences=True,name='lstm_layer')(x)\n",
    "x = GlobalMaxPool1D()(x)\n",
    "x = Dropout(0.1)(x)\n",
    "x = Dense(50, activation=\"relu\")(x)\n",
    "x = Dropout(0.1)(x)\n",
    "x = Dense(6, activation=\"sigmoid\")(x)\n",
    "model = Model(inputs=inp, outputs=x)\n",
    "model.compile(loss='binary_crossentropy',\n",
    "                  optimizer='adam',\n",
    "                  metrics=['accuracy'])\n",
    "print(model.summary())"
   ]
  },
  {
   "cell_type": "code",
   "execution_count": null,
   "id": "202103ff",
   "metadata": {
    "pycharm": {
     "name": "#%%\n"
    }
   },
   "outputs": [
    {
     "name": "stdout",
     "output_type": "stream",
     "text": [
      "Epoch 1/25\n"
     ]
    },
    {
     "name": "stderr",
     "output_type": "stream",
     "text": [
      "2022-10-02 23:30:12.132344: W tensorflow/core/framework/cpu_allocator_impl.cc:82] Allocation of 114890400 exceeds 10% of free system memory.\n",
      "2022-10-02 23:30:15.319444: I tensorflow/stream_executor/cuda/cuda_dnn.cc:384] Loaded cuDNN version 8100\n"
     ]
    },
    {
     "name": "stdout",
     "output_type": "stream",
     "text": [
      "4487/4488 [============================>.] - ETA: 0s - loss: 0.0744 - accuracy: 0.9508"
     ]
    },
    {
     "name": "stderr",
     "output_type": "stream",
     "text": [
      "2022-10-02 23:33:22.895193: W tensorflow/core/framework/cpu_allocator_impl.cc:82] Allocation of 20480000 exceeds 10% of free system memory.\n",
      "2022-10-02 23:33:23.606652: W tensorflow/core/framework/cpu_allocator_impl.cc:82] Allocation of 20480000 exceeds 10% of free system memory.\n",
      "2022-10-02 23:33:23.659317: W tensorflow/core/framework/cpu_allocator_impl.cc:82] Allocation of 20480000 exceeds 10% of free system memory.\n",
      "2022-10-02 23:33:23.664325: W tensorflow/core/framework/cpu_allocator_impl.cc:82] Allocation of 20480000 exceeds 10% of free system memory.\n"
     ]
    },
    {
     "name": "stdout",
     "output_type": "stream",
     "text": [
      "4488/4488 [==============================] - 193s 42ms/step - loss: 0.0744 - accuracy: 0.9509 - val_loss: 0.0517 - val_accuracy: 0.9940\n",
      "Epoch 2/25\n",
      "4488/4488 [==============================] - 177s 40ms/step - loss: 0.0459 - accuracy: 0.9918 - val_loss: 0.0487 - val_accuracy: 0.9940\n",
      "Epoch 3/25\n",
      "4488/4488 [==============================] - 172s 38ms/step - loss: 0.0403 - accuracy: 0.9831 - val_loss: 0.0490 - val_accuracy: 0.9916\n",
      "Epoch 4/25\n",
      "4488/4488 [==============================] - 174s 39ms/step - loss: 0.0351 - accuracy: 0.9581 - val_loss: 0.0513 - val_accuracy: 0.9937\n",
      "Epoch 5/25\n",
      "4488/4488 [==============================] - 184s 41ms/step - loss: 0.0307 - accuracy: 0.9279 - val_loss: 0.0545 - val_accuracy: 0.9915\n",
      "Epoch 6/25\n",
      "4488/4488 [==============================] - 182s 40ms/step - loss: 0.0269 - accuracy: 0.8629 - val_loss: 0.0605 - val_accuracy: 0.9680\n",
      "Epoch 7/25\n",
      "4488/4488 [==============================] - 175s 39ms/step - loss: 0.0236 - accuracy: 0.8159 - val_loss: 0.0649 - val_accuracy: 0.9460\n",
      "Epoch 8/25\n",
      "4488/4488 [==============================] - 175s 39ms/step - loss: 0.0206 - accuracy: 0.8018 - val_loss: 0.0684 - val_accuracy: 0.8997\n",
      "Epoch 9/25\n",
      "4488/4488 [==============================] - 176s 39ms/step - loss: 0.0180 - accuracy: 0.8039 - val_loss: 0.0789 - val_accuracy: 0.8270\n",
      "Epoch 10/25\n",
      "4488/4488 [==============================] - 172s 38ms/step - loss: 0.0159 - accuracy: 0.8186 - val_loss: 0.0906 - val_accuracy: 0.8934\n",
      "Epoch 11/25\n",
      "4488/4488 [==============================] - 176s 39ms/step - loss: 0.0146 - accuracy: 0.8129 - val_loss: 0.0990 - val_accuracy: 0.8995\n",
      "Epoch 12/25\n",
      "4488/4488 [==============================] - 179s 40ms/step - loss: 0.0132 - accuracy: 0.8185 - val_loss: 0.1010 - val_accuracy: 0.9320\n",
      "Epoch 13/25\n",
      "4488/4488 [==============================] - 168s 37ms/step - loss: 0.0122 - accuracy: 0.8216 - val_loss: 0.1107 - val_accuracy: 0.8919\n",
      "Epoch 14/25\n",
      "4488/4488 [==============================] - 169s 38ms/step - loss: 0.0109 - accuracy: 0.8489 - val_loss: 0.1182 - val_accuracy: 0.8480\n",
      "Epoch 15/25\n",
      "4488/4488 [==============================] - 168s 37ms/step - loss: 0.0104 - accuracy: 0.8542 - val_loss: 0.1207 - val_accuracy: 0.8827\n",
      "Epoch 16/25\n",
      "4488/4488 [==============================] - 170s 38ms/step - loss: 0.0096 - accuracy: 0.8646 - val_loss: 0.1260 - val_accuracy: 0.8539\n",
      "Epoch 17/25\n",
      "4488/4488 [==============================] - 171s 38ms/step - loss: 0.0091 - accuracy: 0.8346 - val_loss: 0.1279 - val_accuracy: 0.8659\n",
      "Epoch 18/25\n",
      "4488/4488 [==============================] - 168s 38ms/step - loss: 0.0084 - accuracy: 0.8396 - val_loss: 0.1465 - val_accuracy: 0.8732\n",
      "Epoch 19/25\n",
      "4488/4488 [==============================] - 169s 38ms/step - loss: 0.0081 - accuracy: 0.8564 - val_loss: 0.1369 - val_accuracy: 0.9041\n",
      "Epoch 20/25\n",
      "4488/4488 [==============================] - 170s 38ms/step - loss: 0.0079 - accuracy: 0.8533 - val_loss: 0.1433 - val_accuracy: 0.8787\n",
      "Epoch 21/25\n",
      "4488/4488 [==============================] - 170s 38ms/step - loss: 0.0074 - accuracy: 0.8668 - val_loss: 0.1444 - val_accuracy: 0.9068\n",
      "Epoch 22/25\n",
      "4488/4488 [==============================] - 179s 40ms/step - loss: 0.0071 - accuracy: 0.8710 - val_loss: 0.1514 - val_accuracy: 0.7651\n",
      "Epoch 23/25\n",
      "4488/4488 [==============================] - 170s 38ms/step - loss: 0.0068 - accuracy: 0.8537 - val_loss: 0.1584 - val_accuracy: 0.9189\n",
      "Epoch 24/25\n",
      "4488/4488 [==============================] - 168s 38ms/step - loss: 0.0065 - accuracy: 0.8669 - val_loss: 0.1640 - val_accuracy: 0.9059\n",
      "Epoch 25/25\n",
      "2949/4488 [==================>...........] - ETA: 54s - loss: 0.0061 - accuracy: 0.8758"
     ]
    }
   ],
   "source": [
    "batch_size = 32\n",
    "epochs = 25\n",
    "tensorboard_callback = tf.keras.callbacks.TensorBoard(log_dir=logDir, histogram_freq=1)\n",
    "history = model.fit(X_t,ytrain, batch_size=batch_size, epochs=epochs,callbacks=[tensorboard_callback], validation_split=0.1,shuffle=True)"
   ]
  },
  {
   "cell_type": "code",
   "execution_count": null,
   "id": "cff6d986",
   "metadata": {
    "pycharm": {
     "name": "#%%\n"
    },
    "scrolled": true
   },
   "outputs": [],
   "source": [
    "plt.plot(history.epoch, history.history['loss'], label='total loss')\n",
    "plt.show()"
   ]
  },
  {
   "cell_type": "code",
   "execution_count": null,
   "id": "d6b3555b",
   "metadata": {
    "pycharm": {
     "name": "#%%\n"
    },
    "scrolled": true
   },
   "outputs": [],
   "source": [
    "#!mkdir -p saved_model\n",
    "#model.save('saved_model/model1')"
   ]
  },
  {
   "cell_type": "code",
   "execution_count": 17,
   "id": "df36f08f",
   "metadata": {
    "pycharm": {
     "name": "#%%\n"
    }
   },
   "outputs": [
    {
     "name": "stderr",
     "output_type": "stream",
     "text": [
      "/home/mew/anaconda3/envs/tf/lib/python3.9/site-packages/keras/saving/saved_model/load.py:115: RuntimeWarning: Unexpected end-group tag: Not all data was converted\n",
      "  metadata.ParseFromString(file_content)\n"
     ]
    }
   ],
   "source": [
    "model = tf.keras.models.load_model('saved_model/model1')"
   ]
  },
  {
   "cell_type": "markdown",
   "id": "64b33b25",
   "metadata": {
    "pycharm": {
     "name": "#%% md\n"
    }
   },
   "source": [
    "### predicting for test set"
   ]
  },
  {
   "cell_type": "code",
   "execution_count": null,
   "id": "85eb981e",
   "metadata": {
    "pycharm": {
     "name": "#%%\n"
    }
   },
   "outputs": [],
   "source": [
    "test = preprocess(test)\n",
    "X_tokenized_test = tokenizer.texts_to_sequences(test['clean_comment'])\n",
    "X_te = pad_sequences(X_tokenized_test, maxlen=maxlen)\n",
    "y_pred = model.predict(X_te,batch_size=1024,verbose=1)"
   ]
  },
  {
   "cell_type": "code",
   "execution_count": null,
   "id": "ac5643b9",
   "metadata": {
    "pycharm": {
     "name": "#%%\n"
    }
   },
   "outputs": [],
   "source": [
    "submission = pd.read_csv('./data/sample_submission.csv/sample_submission.csv')\n",
    "submission[[\"toxic\", \"severe_toxic\", \"obscene\", \"threat\", \"insult\", \"identity_hate\"]] = y_pred\n",
    "submission.to_csv('submission.csv', index=False)"
   ]
  },
  {
   "cell_type": "markdown",
   "id": "96108cbe",
   "metadata": {
    "pycharm": {
     "name": "#%% md\n"
    }
   },
   "source": [
    "### predict for given input"
   ]
  },
  {
   "cell_type": "code",
   "execution_count": 24,
   "id": "f70fbba7",
   "metadata": {
    "pycharm": {
     "name": "#%%\n"
    }
   },
   "outputs": [
    {
     "name": "stdout",
     "output_type": "stream",
     "text": [
      "1/1 [==============================] - 0s 403ms/step\n"
     ]
    }
   ],
   "source": [
    "input1= {'comment_text': 'you are a looser'} #input text here\n",
    "inputdf = pd.DataFrame(input1,index=[0])\n",
    "inputdf = preprocess(inputdf)\n",
    "X_tokenized_input = tokenizer.texts_to_sequences(inputdf['clean_comment'])\n",
    "X_ip = pad_sequences(X_tokenized_input, maxlen=maxlen)\n",
    "y_pred = model.predict(X_ip,verbose=1)"
   ]
  },
  {
   "cell_type": "code",
   "execution_count": 25,
   "id": "e877cf1c",
   "metadata": {
    "pycharm": {
     "name": "#%%\n"
    }
   },
   "outputs": [
    {
     "name": "stdout",
     "output_type": "stream",
     "text": [
      "toxic : 86.49 %\n",
      "severe_toxic : 5.34 %\n",
      "obscene : 47.72 %\n",
      "threat : 4.57 %\n",
      "insult : 49.0 %\n",
      "identity_hate : 8.89 %\n"
     ]
    }
   ],
   "source": [
    "for i in range(0,6):\n",
    "    print(list_classes[i], ':' , round(y_pred[0][i]*100,2),'%')"
   ]
  },
  {
   "cell_type": "code",
   "execution_count": null,
   "id": "3af8362f",
   "metadata": {
    "pycharm": {
     "name": "#%%\n"
    }
   },
   "outputs": [],
   "source": []
  }
 ],
 "metadata": {
  "kernelspec": {
   "display_name": "Python 3 (ipykernel)",
   "language": "python",
   "name": "python3"
  },
  "language_info": {
   "codemirror_mode": {
    "name": "ipython",
    "version": 3
   },
   "file_extension": ".py",
   "mimetype": "text/x-python",
   "name": "python",
   "nbconvert_exporter": "python",
   "pygments_lexer": "ipython3",
   "version": "3.9.13"
  }
 },
 "nbformat": 4,
 "nbformat_minor": 5
}
